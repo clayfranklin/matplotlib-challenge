{
 "cells": [
  {
   "cell_type": "code",
   "execution_count": 11,
   "metadata": {},
   "outputs": [],
   "source": [
    "# Dependencies\n",
    "from spread import variance, standard_deviation, zipped_z_scores"
   ]
  },
  {
   "cell_type": "code",
   "execution_count": 12,
   "metadata": {},
   "outputs": [],
   "source": [
    "def summarize(title, arr): \n",
    "    print(f\"Summarizing {title}\")\n",
    "    print(f\"Variance: {variance(arr)}\")\n",
    "    print(f\"Standard Deviation: {standard_deviation(arr)}\")\n",
    "    print(f\"Z-Scores: {zipped_z_scores(arr)}\")\n",
    "    print(\"======\")"
   ]
  },
  {
   "cell_type": "code",
   "execution_count": 13,
   "metadata": {},
   "outputs": [
    {
     "name": "stdout",
     "output_type": "stream",
     "text": [
      "Summarizing Prices\n",
      "Variance: 1177294.9599999997\n",
      "Standard Deviation: 1085.032239152367\n",
      "Z-Scores: [(4, -0.8062433247913429), (425, -0.41823642065650596), (984, 0.09695564445364577), (2932, 1.8922940037283782), (49, -0.7647699027341751)]\n",
      "======\n"
     ]
    }
   ],
   "source": [
    "# Prices of random electronics at Best Buy\n",
    "prices = [4, 425, 984, 2932, 49]\n",
    "summarize(\"Prices\", prices)"
   ]
  },
  {
   "cell_type": "code",
   "execution_count": 18,
   "metadata": {},
   "outputs": [
    {
     "ename": "NameError",
     "evalue": "name 'arr' is not defined",
     "output_type": "error",
     "traceback": [
      "\u001b[1;31m---------------------------------------------------------------------------\u001b[0m",
      "\u001b[1;31mNameError\u001b[0m                                 Traceback (most recent call last)",
      "\u001b[1;32m<ipython-input-18-2b7523ef6da3>\u001b[0m in \u001b[0;36m<module>\u001b[1;34m\u001b[0m\n\u001b[0;32m      1\u001b[0m \u001b[1;31m#z_score = zipped_z_scores(arr)\u001b[0m\u001b[1;33m\u001b[0m\u001b[1;33m\u001b[0m\u001b[1;33m\u001b[0m\u001b[0m\n\u001b[1;32m----> 2\u001b[1;33m \u001b[0mstanD\u001b[0m \u001b[1;33m=\u001b[0m \u001b[0mstandard_deviation\u001b[0m\u001b[1;33m(\u001b[0m\u001b[0marr\u001b[0m\u001b[1;33m)\u001b[0m\u001b[1;33m\u001b[0m\u001b[1;33m\u001b[0m\u001b[0m\n\u001b[0m",
      "\u001b[1;31mNameError\u001b[0m: name 'arr' is not defined"
     ]
    }
   ],
   "source": [
    "#z_score = zipped_z_scores(arr)\n",
    "stanD = standard_deviation(arr)\n"
   ]
  },
  {
   "cell_type": "code",
   "execution_count": 19,
   "metadata": {},
   "outputs": [
    {
     "name": "stdout",
     "output_type": "stream",
     "text": [
      "Summarizing Bootcamp Ages\n",
      "Variance: 72.55555555555556\n",
      "Standard Deviation: 8.517954892787092\n",
      "Z-Scores: [(27, -1.1348576962825065), (35, -0.19566512004870779), (42, 0.6261283841558661), (52, 1.8001191044481146), (36, -0.07826604801948295), (28, -1.0174586242532817)]\n",
      "======\n"
     ]
    }
   ],
   "source": [
    "# Ages of students in bootcamp\n",
    "bootcamp_classroom_ages = [27, 35, 42, 52, 36, 28]\n",
    "summarize(\"Bootcamp Ages\", bootcamp_classroom_ages)"
   ]
  },
  {
   "cell_type": "code",
   "execution_count": 5,
   "metadata": {},
   "outputs": [
    {
     "name": "stdout",
     "output_type": "stream",
     "text": [
      "Summarizing Birthday Party Ages\n",
      "Variance: 244.6938775510204\n",
      "Standard Deviation: 15.64269406307687\n",
      "Z-Scores: {zipped_z_scores(arr)}\n",
      "======\n"
     ]
    }
   ],
   "source": [
    "# Ages of children and parents at child's party\n",
    "birthday_party_ages = [6, 5, 6, 6, 35, 34, 42]\n",
    "summarize(\"Birthday Party Ages\", birthday_party_ages)"
   ]
  },
  {
   "cell_type": "code",
   "execution_count": 6,
   "metadata": {},
   "outputs": [
    {
     "name": "stdout",
     "output_type": "stream",
     "text": [
      "Summarizing Geograph Grades\n",
      "Variance: 8.0\n",
      "Standard Deviation: 2.8284271247461903\n",
      "Z-Scores: {zipped_z_scores(arr)}\n",
      "======\n"
     ]
    }
   ],
   "source": [
    "# Test score from a 2nd grade geography test\n",
    "geo_grades = [87, 89, 91, 93, 95]\n",
    "summarize(\"Geograph Grades\", geo_grades)"
   ]
  },
  {
   "cell_type": "code",
   "execution_count": 7,
   "metadata": {},
   "outputs": [
    {
     "name": "stdout",
     "output_type": "stream",
     "text": [
      "Summarizing Quantum Mechanics Grades\n",
      "Variance: 1006.1224489795917\n",
      "Standard Deviation: 31.71943330167788\n",
      "Z-Scores: {zipped_z_scores(arr)}\n",
      "======\n"
     ]
    }
   ],
   "source": [
    "# Test scores from a graduate quantum mechanics midterm\n",
    "quantum_grades = [63, 63, 98, 13, 58, 13, 8]\n",
    "summarize(\"Quantum Mechanics Grades\", quantum_grades)"
   ]
  },
  {
   "cell_type": "code",
   "execution_count": 8,
   "metadata": {},
   "outputs": [
    {
     "name": "stdout",
     "output_type": "stream",
     "text": [
      "Summarizing Prices\n",
      "Variance: 92039.55555555556\n",
      "Standard Deviation: 303.3802161571442\n",
      "Z-Scores: {zipped_z_scores(arr)}\n",
      "======\n"
     ]
    }
   ],
   "source": [
    "# Prices\n",
    "summarize(\"Prices\", [30, 31, 31, 32, 32, 40, 41, 41, 1000])"
   ]
  },
  {
   "cell_type": "code",
   "execution_count": null,
   "metadata": {},
   "outputs": [],
   "source": []
  }
 ],
 "metadata": {
  "kernelspec": {
   "display_name": "Python 3",
   "language": "python",
   "name": "python3"
  },
  "language_info": {
   "codemirror_mode": {
    "name": "ipython",
    "version": 3
   },
   "file_extension": ".py",
   "mimetype": "text/x-python",
   "name": "python",
   "nbconvert_exporter": "python",
   "pygments_lexer": "ipython3",
   "version": "3.7.3"
  }
 },
 "nbformat": 4,
 "nbformat_minor": 2
}

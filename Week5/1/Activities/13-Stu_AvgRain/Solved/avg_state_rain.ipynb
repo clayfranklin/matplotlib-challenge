{
 "cells": [
  {
   "cell_type": "code",
   "execution_count": null,
   "metadata": {},
   "outputs": [],
   "source": [
    "%matplotlib notebook"
   ]
  },
  {
   "cell_type": "code",
   "execution_count": 1,
   "metadata": {},
   "outputs": [],
   "source": [
    "# Dependencies\n",
    "import matplotlib.pyplot as plt\n",
    "import numpy as np\n",
    "import pandas as pd"
   ]
  },
  {
   "cell_type": "code",
   "execution_count": 2,
   "metadata": {},
   "outputs": [
    {
     "data": {
      "text/html": [
       "<div>\n",
       "<style scoped>\n",
       "    .dataframe tbody tr th:only-of-type {\n",
       "        vertical-align: middle;\n",
       "    }\n",
       "\n",
       "    .dataframe tbody tr th {\n",
       "        vertical-align: top;\n",
       "    }\n",
       "\n",
       "    .dataframe thead th {\n",
       "        text-align: right;\n",
       "    }\n",
       "</style>\n",
       "<table border=\"1\" class=\"dataframe\">\n",
       "  <thead>\n",
       "    <tr style=\"text-align: right;\">\n",
       "      <th></th>\n",
       "      <th>State</th>\n",
       "      <th>Inches</th>\n",
       "      <th>Milli­metres</th>\n",
       "      <th>Rank</th>\n",
       "    </tr>\n",
       "  </thead>\n",
       "  <tbody>\n",
       "    <tr>\n",
       "      <th>0</th>\n",
       "      <td>Alabama</td>\n",
       "      <td>58.3</td>\n",
       "      <td>1480</td>\n",
       "      <td>4</td>\n",
       "    </tr>\n",
       "    <tr>\n",
       "      <th>1</th>\n",
       "      <td>Alaska</td>\n",
       "      <td>22.5</td>\n",
       "      <td>572</td>\n",
       "      <td>39</td>\n",
       "    </tr>\n",
       "    <tr>\n",
       "      <th>2</th>\n",
       "      <td>Arizona</td>\n",
       "      <td>13.6</td>\n",
       "      <td>345</td>\n",
       "      <td>47</td>\n",
       "    </tr>\n",
       "    <tr>\n",
       "      <th>3</th>\n",
       "      <td>Arkansas</td>\n",
       "      <td>50.6</td>\n",
       "      <td>1284</td>\n",
       "      <td>8</td>\n",
       "    </tr>\n",
       "    <tr>\n",
       "      <th>4</th>\n",
       "      <td>California</td>\n",
       "      <td>22.2</td>\n",
       "      <td>563</td>\n",
       "      <td>40</td>\n",
       "    </tr>\n",
       "  </tbody>\n",
       "</table>\n",
       "</div>"
      ],
      "text/plain": [
       "        State  Inches  Milli­metres  Rank\n",
       "0     Alabama    58.3          1480     4\n",
       "1      Alaska    22.5           572    39\n",
       "2     Arizona    13.6           345    47\n",
       "3    Arkansas    50.6          1284     8\n",
       "4  California    22.2           563    40"
      ]
     },
     "execution_count": 2,
     "metadata": {},
     "output_type": "execute_result"
    }
   ],
   "source": [
    "# Load in csv\n",
    "rain_df = pd.read_csv(\"../Resources/avg_rain_state.csv\")\n",
    "rain_df.head()"
   ]
  },
  {
   "cell_type": "code",
   "execution_count": 3,
   "metadata": {},
   "outputs": [],
   "source": [
    "# Set x axis and tick locations\n",
    "x_axis = np.arange(len(rain_df))\n",
    "tick_locations = [value+0.4 for value in x_axis]"
   ]
  },
  {
   "cell_type": "code",
   "execution_count": 5,
   "metadata": {},
   "outputs": [
    {
     "data": {
      "text/plain": [
       "([<matplotlib.axis.XTick at 0x19c231fabe0>,\n",
       "  <matplotlib.axis.XTick at 0x19c231fa668>,\n",
       "  <matplotlib.axis.XTick at 0x19c231fa828>,\n",
       "  <matplotlib.axis.XTick at 0x19c230e2f60>,\n",
       "  <matplotlib.axis.XTick at 0x19c230ef4a8>,\n",
       "  <matplotlib.axis.XTick at 0x19c230efa20>,\n",
       "  <matplotlib.axis.XTick at 0x19c230efcf8>,\n",
       "  <matplotlib.axis.XTick at 0x19c230f52b0>,\n",
       "  <matplotlib.axis.XTick at 0x19c230f5828>,\n",
       "  <matplotlib.axis.XTick at 0x19c230f5da0>,\n",
       "  <matplotlib.axis.XTick at 0x19c230fb358>,\n",
       "  <matplotlib.axis.XTick at 0x19c230fb8d0>,\n",
       "  <matplotlib.axis.XTick at 0x19c230fbe48>,\n",
       "  <matplotlib.axis.XTick at 0x19c23103400>,\n",
       "  <matplotlib.axis.XTick at 0x19c230fb748>,\n",
       "  <matplotlib.axis.XTick at 0x19c230f5780>,\n",
       "  <matplotlib.axis.XTick at 0x19c23103c18>,\n",
       "  <matplotlib.axis.XTick at 0x19c23103f60>,\n",
       "  <matplotlib.axis.XTick at 0x19c2310a518>,\n",
       "  <matplotlib.axis.XTick at 0x19c2310aa90>,\n",
       "  <matplotlib.axis.XTick at 0x19c231110b8>,\n",
       "  <matplotlib.axis.XTick at 0x19c231115c0>,\n",
       "  <matplotlib.axis.XTick at 0x19c23111b38>,\n",
       "  <matplotlib.axis.XTick at 0x19c23118160>,\n",
       "  <matplotlib.axis.XTick at 0x19c231119b0>,\n",
       "  <matplotlib.axis.XTick at 0x19c23103dd8>,\n",
       "  <matplotlib.axis.XTick at 0x19c23118588>,\n",
       "  <matplotlib.axis.XTick at 0x19c23118b00>,\n",
       "  <matplotlib.axis.XTick at 0x19c23121128>,\n",
       "  <matplotlib.axis.XTick at 0x19c23121630>,\n",
       "  <matplotlib.axis.XTick at 0x19c23121ba8>,\n",
       "  <matplotlib.axis.XTick at 0x19c23127198>,\n",
       "  <matplotlib.axis.XTick at 0x19c231276d8>,\n",
       "  <matplotlib.axis.XTick at 0x19c23121438>,\n",
       "  <matplotlib.axis.XTick at 0x19c23118668>,\n",
       "  <matplotlib.axis.XTick at 0x19c23127dd8>,\n",
       "  <matplotlib.axis.XTick at 0x19c2312e198>,\n",
       "  <matplotlib.axis.XTick at 0x19c2312e710>,\n",
       "  <matplotlib.axis.XTick at 0x19c2312ec88>,\n",
       "  <matplotlib.axis.XTick at 0x19c23137240>,\n",
       "  <matplotlib.axis.XTick at 0x19c231377b8>,\n",
       "  <matplotlib.axis.XTick at 0x19c23137d30>,\n",
       "  <matplotlib.axis.XTick at 0x19c2313f2e8>,\n",
       "  <matplotlib.axis.XTick at 0x19c23137898>,\n",
       "  <matplotlib.axis.XTick at 0x19c231277b8>,\n",
       "  <matplotlib.axis.XTick at 0x19c23103780>,\n",
       "  <matplotlib.axis.XTick at 0x19c2313f898>,\n",
       "  <matplotlib.axis.XTick at 0x19c2313fe10>,\n",
       "  <matplotlib.axis.XTick at 0x19c231463c8>,\n",
       "  <matplotlib.axis.XTick at 0x19c23146940>],\n",
       " <a list of 50 Text xticklabel objects>)"
      ]
     },
     "execution_count": 5,
     "metadata": {},
     "output_type": "execute_result"
    },
    {
     "data": {
      "image/png": "[encoded data removed]",
      "text/plain": [
       "<Figure size 1440x216 with 1 Axes>"
      ]
     },
     "metadata": {
      "needs_background": "light"
     },
     "output_type": "display_data"
    }
   ],
   "source": [
    "# Create a list indicating where to write x labels and set figure size to adjust for space\n",
    "plt.figure(figsize=(20,3))\n",
    "plt.bar(x_axis, rain_df[\"Inches\"], color='g', alpha=0.75, align=\"edge\")\n",
    "plt.xticks(tick_locations, rain_df[\"State\"], rotation=\"vertical\")"
   ]
  },
  {
   "cell_type": "code",
   "execution_count": 8,
   "metadata": {},
   "outputs": [
    {
     "data": {
      "text/plain": [
       "(0, 73.7)"
      ]
     },
     "execution_count": 8,
     "metadata": {},
     "output_type": "execute_result"
    },
    {
     "data": {
      "image/png": "[encoded data removed]",
      "text/plain": [
       "<Figure size 432x288 with 1 Axes>"
      ]
     },
     "metadata": {
      "needs_background": "light"
     },
     "output_type": "display_data"
    }
   ],
   "source": [
    "# Set x and y limits\n",
    "plt.xlim(0, len(x_axis))\n",
    "plt.ylim(0, max(rain_df[\"Inches\"])+10)"
   ]
  },
  {
   "cell_type": "code",
   "execution_count": null,
   "metadata": {},
   "outputs": [],
   "source": [
    "# Set a Title and labels\n",
    "plt.title(\"Average Rain per State\")\n",
    "plt.xlabel(\"State\")\n",
    "plt.ylabel(\"Average Amount of Rainfall in Inches\")"
   ]
  },
  {
   "cell_type": "code",
   "execution_count": null,
   "metadata": {},
   "outputs": [],
   "source": [
    "# Save our graph and show the grap\n",
    "plt.tight_layout()\n",
    "plt.savefig(\"../Images/avg_state_rain.png\")\n",
    "plt.show()"
   ]
  },
  {
   "cell_type": "code",
   "execution_count": null,
   "metadata": {},
   "outputs": [],
   "source": []
  }
 ],
 "metadata": {
  "kernel_info": {
   "name": "python3"
  },
  "kernelspec": {
   "display_name": "Python 3",
   "language": "python",
   "name": "python3"
  },
  "language_info": {
   "codemirror_mode": {
    "name": "ipython",
    "version": 3
   },
   "file_extension": ".py",
   "mimetype": "text/x-python",
   "name": "python",
   "nbconvert_exporter": "python",
   "pygments_lexer": "ipython3",
   "version": "3.7.3"
  },
  "nteract": {
   "version": "0.2.0"
  }
 },
 "nbformat": 4,
 "nbformat_minor": 2
}
